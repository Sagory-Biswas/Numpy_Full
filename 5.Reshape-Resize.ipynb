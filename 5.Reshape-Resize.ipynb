{
 "cells": [
  {
   "cell_type": "markdown",
   "id": "16bec98c",
   "metadata": {},
   "source": [
    "# Reshape:\n"
   ]
  },
  {
   "cell_type": "code",
   "execution_count": 2,
   "id": "e6eb999b",
   "metadata": {},
   "outputs": [],
   "source": [
    "import numpy as np"
   ]
  },
  {
   "cell_type": "code",
   "execution_count": 3,
   "id": "783d64fb",
   "metadata": {},
   "outputs": [],
   "source": [
    "p = np.random.randint(1,8, size = (3,4))"
   ]
  },
  {
   "cell_type": "code",
   "execution_count": 4,
   "id": "76ad0c83",
   "metadata": {},
   "outputs": [
    {
     "data": {
      "text/plain": [
       "array([[6, 1, 3, 5],\n",
       "       [5, 4, 6, 3],\n",
       "       [5, 3, 1, 2]])"
      ]
     },
     "execution_count": 4,
     "metadata": {},
     "output_type": "execute_result"
    }
   ],
   "source": [
    "p"
   ]
  },
  {
   "cell_type": "code",
   "execution_count": 5,
   "id": "7f4f630c",
   "metadata": {},
   "outputs": [
    {
     "data": {
      "text/plain": [
       "array([[6, 1, 3],\n",
       "       [5, 5, 4],\n",
       "       [6, 3, 5],\n",
       "       [3, 1, 2]])"
      ]
     },
     "execution_count": 5,
     "metadata": {},
     "output_type": "execute_result"
    }
   ],
   "source": [
    "p.reshape(4,3)"
   ]
  },
  {
   "cell_type": "code",
   "execution_count": 6,
   "id": "9798668f",
   "metadata": {},
   "outputs": [
    {
     "data": {
      "text/plain": [
       "array([[6, 1, 3],\n",
       "       [5, 5, 4],\n",
       "       [6, 3, 5],\n",
       "       [3, 1, 2]])"
      ]
     },
     "execution_count": 6,
     "metadata": {},
     "output_type": "execute_result"
    }
   ],
   "source": [
    "np.reshape(p,(4,3))"
   ]
  },
  {
   "cell_type": "markdown",
   "id": "6e9bb9b6",
   "metadata": {},
   "source": [
    "# Resize:\n"
   ]
  },
  {
   "cell_type": "code",
   "execution_count": 7,
   "id": "d5a9b15e",
   "metadata": {},
   "outputs": [
    {
     "data": {
      "text/plain": [
       "array([[6, 1, 3, 5],\n",
       "       [5, 4, 6, 3],\n",
       "       [5, 3, 1, 2],\n",
       "       [6, 1, 3, 5]])"
      ]
     },
     "execution_count": 7,
     "metadata": {},
     "output_type": "execute_result"
    }
   ],
   "source": [
    "np.resize(p,(4,4))"
   ]
  },
  {
   "cell_type": "code",
   "execution_count": 8,
   "id": "60556798",
   "metadata": {},
   "outputs": [],
   "source": [
    "q = np.resize(p,(4,5))"
   ]
  },
  {
   "cell_type": "code",
   "execution_count": 9,
   "id": "fd0340cb",
   "metadata": {},
   "outputs": [
    {
     "data": {
      "text/plain": [
       "array([[6, 1, 3, 5, 5],\n",
       "       [4, 6, 3, 5, 3],\n",
       "       [1, 2, 6, 1, 3],\n",
       "       [5, 5, 4, 6, 3]])"
      ]
     },
     "execution_count": 9,
     "metadata": {},
     "output_type": "execute_result"
    }
   ],
   "source": [
    "q"
   ]
  },
  {
   "cell_type": "code",
   "execution_count": 10,
   "id": "8767be67",
   "metadata": {},
   "outputs": [
    {
     "data": {
      "text/plain": [
       "array([[6, 1, 3],\n",
       "       [5, 5, 4],\n",
       "       [6, 3, 5],\n",
       "       [3, 1, 2]])"
      ]
     },
     "execution_count": 10,
     "metadata": {},
     "output_type": "execute_result"
    }
   ],
   "source": [
    "np.resize(p,(4,3))"
   ]
  },
  {
   "cell_type": "code",
   "execution_count": null,
   "id": "e872c12b",
   "metadata": {},
   "outputs": [],
   "source": []
  }
 ],
 "metadata": {
  "kernelspec": {
   "display_name": "Python 3 (ipykernel)",
   "language": "python",
   "name": "python3"
  },
  "language_info": {
   "codemirror_mode": {
    "name": "ipython",
    "version": 3
   },
   "file_extension": ".py",
   "mimetype": "text/x-python",
   "name": "python",
   "nbconvert_exporter": "python",
   "pygments_lexer": "ipython3",
   "version": "3.11.4"
  }
 },
 "nbformat": 4,
 "nbformat_minor": 5
}
