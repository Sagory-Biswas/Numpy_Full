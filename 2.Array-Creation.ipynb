{
 "cells": [
  {
   "cell_type": "markdown",
   "id": "326cd4f4",
   "metadata": {},
   "source": [
    "# Array Creation:\n"
   ]
  },
  {
   "cell_type": "code",
   "execution_count": 20,
   "id": "58b732d7",
   "metadata": {},
   "outputs": [],
   "source": [
    "import numpy as np"
   ]
  },
  {
   "cell_type": "code",
   "execution_count": 21,
   "id": "b2159b0b",
   "metadata": {},
   "outputs": [],
   "source": [
    "e = np.zeros((2,2), dtype = 'float')"
   ]
  },
  {
   "cell_type": "code",
   "execution_count": 22,
   "id": "1f22e90f",
   "metadata": {},
   "outputs": [
    {
     "data": {
      "text/plain": [
       "array([[0., 0.],\n",
       "       [0., 0.]])"
      ]
     },
     "execution_count": 22,
     "metadata": {},
     "output_type": "execute_result"
    }
   ],
   "source": [
    "e"
   ]
  },
  {
   "cell_type": "code",
   "execution_count": 23,
   "id": "5ebecf35",
   "metadata": {},
   "outputs": [],
   "source": [
    "f = np.ones((3,2), dtype = 'int')"
   ]
  },
  {
   "cell_type": "code",
   "execution_count": 24,
   "id": "818dc191",
   "metadata": {},
   "outputs": [
    {
     "data": {
      "text/plain": [
       "array([[1, 1],\n",
       "       [1, 1],\n",
       "       [1, 1]])"
      ]
     },
     "execution_count": 24,
     "metadata": {},
     "output_type": "execute_result"
    }
   ],
   "source": [
    "f"
   ]
  },
  {
   "cell_type": "code",
   "execution_count": 25,
   "id": "10b11c26",
   "metadata": {},
   "outputs": [],
   "source": [
    "g = np.full((4,5), 7)"
   ]
  },
  {
   "cell_type": "code",
   "execution_count": 26,
   "id": "949e09ad",
   "metadata": {},
   "outputs": [
    {
     "data": {
      "text/plain": [
       "array([[7, 7, 7, 7, 7],\n",
       "       [7, 7, 7, 7, 7],\n",
       "       [7, 7, 7, 7, 7],\n",
       "       [7, 7, 7, 7, 7]])"
      ]
     },
     "execution_count": 26,
     "metadata": {},
     "output_type": "execute_result"
    }
   ],
   "source": [
    "g"
   ]
  },
  {
   "cell_type": "code",
   "execution_count": 27,
   "id": "4924879a",
   "metadata": {},
   "outputs": [],
   "source": [
    "i = np.identity(4)"
   ]
  },
  {
   "cell_type": "code",
   "execution_count": 28,
   "id": "bafc4f76",
   "metadata": {},
   "outputs": [
    {
     "data": {
      "text/plain": [
       "array([[1., 0., 0., 0.],\n",
       "       [0., 1., 0., 0.],\n",
       "       [0., 0., 1., 0.],\n",
       "       [0., 0., 0., 1.]])"
      ]
     },
     "execution_count": 28,
     "metadata": {},
     "output_type": "execute_result"
    }
   ],
   "source": [
    "i"
   ]
  },
  {
   "cell_type": "code",
   "execution_count": 29,
   "id": "b0ad4d78",
   "metadata": {},
   "outputs": [],
   "source": [
    "j = np.eye(3,4,-2)"
   ]
  },
  {
   "cell_type": "code",
   "execution_count": 30,
   "id": "6c5edcdb",
   "metadata": {},
   "outputs": [
    {
     "data": {
      "text/plain": [
       "array([[0., 0., 0., 0.],\n",
       "       [0., 0., 0., 0.],\n",
       "       [1., 0., 0., 0.]])"
      ]
     },
     "execution_count": 30,
     "metadata": {},
     "output_type": "execute_result"
    }
   ],
   "source": [
    "j"
   ]
  },
  {
   "cell_type": "code",
   "execution_count": 31,
   "id": "4f4ceded",
   "metadata": {},
   "outputs": [],
   "source": [
    "k = np.arange(2,14,3)"
   ]
  },
  {
   "cell_type": "code",
   "execution_count": 32,
   "id": "c6659b06",
   "metadata": {},
   "outputs": [
    {
     "data": {
      "text/plain": [
       "array([ 2,  5,  8, 11])"
      ]
     },
     "execution_count": 32,
     "metadata": {},
     "output_type": "execute_result"
    }
   ],
   "source": [
    "k"
   ]
  },
  {
   "cell_type": "code",
   "execution_count": 33,
   "id": "3f4a948f",
   "metadata": {},
   "outputs": [],
   "source": [
    "l = np.linspace(1,9,20, dtype = 'float')"
   ]
  },
  {
   "cell_type": "code",
   "execution_count": 34,
   "id": "43786b5c",
   "metadata": {},
   "outputs": [
    {
     "data": {
      "text/plain": [
       "array([1.        , 1.42105263, 1.84210526, 2.26315789, 2.68421053,\n",
       "       3.10526316, 3.52631579, 3.94736842, 4.36842105, 4.78947368,\n",
       "       5.21052632, 5.63157895, 6.05263158, 6.47368421, 6.89473684,\n",
       "       7.31578947, 7.73684211, 8.15789474, 8.57894737, 9.        ])"
      ]
     },
     "execution_count": 34,
     "metadata": {},
     "output_type": "execute_result"
    }
   ],
   "source": [
    "l"
   ]
  },
  {
   "cell_type": "code",
   "execution_count": 35,
   "id": "4d8c7d2a",
   "metadata": {},
   "outputs": [],
   "source": [
    "m = np.empty((2,5), dtype = 'int')"
   ]
  },
  {
   "cell_type": "code",
   "execution_count": 36,
   "id": "ed17795b",
   "metadata": {},
   "outputs": [
    {
     "data": {
      "text/plain": [
       "array([[    4128860,     6029375,     3801155,     5570652,     6619251],\n",
       "       [    7536754,     5505116,           0, -1661596368,         474]])"
      ]
     },
     "execution_count": 36,
     "metadata": {},
     "output_type": "execute_result"
    }
   ],
   "source": [
    "m"
   ]
  },
  {
   "cell_type": "code",
   "execution_count": 37,
   "id": "f510ec10",
   "metadata": {},
   "outputs": [
    {
     "data": {
      "text/plain": [
       "array([[          0,           1,           2,     5570652,     6619251],\n",
       "       [          0,           1,           2, -1661596368,         474]])"
      ]
     },
     "execution_count": 37,
     "metadata": {},
     "output_type": "execute_result"
    }
   ],
   "source": [
    "for i in range(3):\n",
    "    m[:,i] = i\n",
    "m"
   ]
  },
  {
   "cell_type": "code",
   "execution_count": null,
   "id": "bf5188d8",
   "metadata": {},
   "outputs": [],
   "source": []
  }
 ],
 "metadata": {
  "kernelspec": {
   "display_name": "Python 3 (ipykernel)",
   "language": "python",
   "name": "python3"
  },
  "language_info": {
   "codemirror_mode": {
    "name": "ipython",
    "version": 3
   },
   "file_extension": ".py",
   "mimetype": "text/x-python",
   "name": "python",
   "nbconvert_exporter": "python",
   "pygments_lexer": "ipython3",
   "version": "3.11.4"
  }
 },
 "nbformat": 4,
 "nbformat_minor": 5
}
