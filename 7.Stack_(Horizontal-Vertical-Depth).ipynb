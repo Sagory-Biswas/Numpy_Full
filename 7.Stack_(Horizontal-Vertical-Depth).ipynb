{
 "cells": [
  {
   "cell_type": "markdown",
   "id": "34520955",
   "metadata": {},
   "source": [
    "# Horizontal Stack:"
   ]
  },
  {
   "cell_type": "code",
   "execution_count": 1,
   "id": "c0f3ac5f",
   "metadata": {},
   "outputs": [],
   "source": [
    "import numpy as np"
   ]
  },
  {
   "cell_type": "code",
   "execution_count": 2,
   "id": "bed9d9cd",
   "metadata": {},
   "outputs": [],
   "source": [
    "s = np.arange(2,11).reshape(3,3)"
   ]
  },
  {
   "cell_type": "code",
   "execution_count": 3,
   "id": "6a67aa83",
   "metadata": {},
   "outputs": [
    {
     "data": {
      "text/plain": [
       "array([[ 2,  3,  4],\n",
       "       [ 5,  6,  7],\n",
       "       [ 8,  9, 10]])"
      ]
     },
     "execution_count": 3,
     "metadata": {},
     "output_type": "execute_result"
    }
   ],
   "source": [
    "s"
   ]
  },
  {
   "cell_type": "code",
   "execution_count": 4,
   "id": "adec5b94",
   "metadata": {},
   "outputs": [],
   "source": [
    "t = s+2"
   ]
  },
  {
   "cell_type": "code",
   "execution_count": 5,
   "id": "c38839ad",
   "metadata": {},
   "outputs": [
    {
     "data": {
      "text/plain": [
       "array([[ 4,  5,  6],\n",
       "       [ 7,  8,  9],\n",
       "       [10, 11, 12]])"
      ]
     },
     "execution_count": 5,
     "metadata": {},
     "output_type": "execute_result"
    }
   ],
   "source": [
    "t"
   ]
  },
  {
   "cell_type": "code",
   "execution_count": 6,
   "id": "aa2cd791",
   "metadata": {},
   "outputs": [],
   "source": [
    "u = np.hstack((s,t))"
   ]
  },
  {
   "cell_type": "code",
   "execution_count": 7,
   "id": "6ad21792",
   "metadata": {},
   "outputs": [
    {
     "data": {
      "text/plain": [
       "array([[ 2,  3,  4,  4,  5,  6],\n",
       "       [ 5,  6,  7,  7,  8,  9],\n",
       "       [ 8,  9, 10, 10, 11, 12]])"
      ]
     },
     "execution_count": 7,
     "metadata": {},
     "output_type": "execute_result"
    }
   ],
   "source": [
    "u"
   ]
  },
  {
   "cell_type": "code",
   "execution_count": 8,
   "id": "af91c51b",
   "metadata": {},
   "outputs": [],
   "source": [
    "v = np.column_stack((s,t))"
   ]
  },
  {
   "cell_type": "code",
   "execution_count": 9,
   "id": "89694668",
   "metadata": {},
   "outputs": [
    {
     "data": {
      "text/plain": [
       "array([[ 2,  3,  4,  4,  5,  6],\n",
       "       [ 5,  6,  7,  7,  8,  9],\n",
       "       [ 8,  9, 10, 10, 11, 12]])"
      ]
     },
     "execution_count": 9,
     "metadata": {},
     "output_type": "execute_result"
    }
   ],
   "source": [
    "v"
   ]
  },
  {
   "cell_type": "code",
   "execution_count": 10,
   "id": "459b42a1",
   "metadata": {},
   "outputs": [],
   "source": [
    "w = np.concatenate((s,t), axis = 1)"
   ]
  },
  {
   "cell_type": "code",
   "execution_count": 11,
   "id": "c7c0bdc0",
   "metadata": {},
   "outputs": [
    {
     "data": {
      "text/plain": [
       "array([[ 2,  3,  4,  4,  5,  6],\n",
       "       [ 5,  6,  7,  7,  8,  9],\n",
       "       [ 8,  9, 10, 10, 11, 12]])"
      ]
     },
     "execution_count": 11,
     "metadata": {},
     "output_type": "execute_result"
    }
   ],
   "source": [
    "w"
   ]
  },
  {
   "cell_type": "code",
   "execution_count": 13,
   "id": "7330ad8d",
   "metadata": {},
   "outputs": [],
   "source": [
    "w.shape = (3,6)"
   ]
  },
  {
   "cell_type": "markdown",
   "id": "955f09bf",
   "metadata": {},
   "source": [
    "# Vertical Stack:"
   ]
  },
  {
   "cell_type": "code",
   "execution_count": 14,
   "id": "bed214a0",
   "metadata": {},
   "outputs": [],
   "source": [
    "x = np.vstack((s,t))"
   ]
  },
  {
   "cell_type": "code",
   "execution_count": 15,
   "id": "df2d13a1",
   "metadata": {},
   "outputs": [
    {
     "data": {
      "text/plain": [
       "array([[ 2,  3,  4],\n",
       "       [ 5,  6,  7],\n",
       "       [ 8,  9, 10],\n",
       "       [ 4,  5,  6],\n",
       "       [ 7,  8,  9],\n",
       "       [10, 11, 12]])"
      ]
     },
     "execution_count": 15,
     "metadata": {},
     "output_type": "execute_result"
    }
   ],
   "source": [
    "x"
   ]
  },
  {
   "cell_type": "code",
   "execution_count": 16,
   "id": "6f22d104",
   "metadata": {},
   "outputs": [],
   "source": [
    "y = np.row_stack((s,t))"
   ]
  },
  {
   "cell_type": "code",
   "execution_count": 17,
   "id": "b02a6c3c",
   "metadata": {},
   "outputs": [
    {
     "data": {
      "text/plain": [
       "array([[ 2,  3,  4],\n",
       "       [ 5,  6,  7],\n",
       "       [ 8,  9, 10],\n",
       "       [ 4,  5,  6],\n",
       "       [ 7,  8,  9],\n",
       "       [10, 11, 12]])"
      ]
     },
     "execution_count": 17,
     "metadata": {},
     "output_type": "execute_result"
    }
   ],
   "source": [
    "y"
   ]
  },
  {
   "cell_type": "code",
   "execution_count": 18,
   "id": "4e31f378",
   "metadata": {},
   "outputs": [],
   "source": [
    "z = np.concatenate((s,t), axis = 0)"
   ]
  },
  {
   "cell_type": "code",
   "execution_count": 19,
   "id": "87d8287a",
   "metadata": {},
   "outputs": [
    {
     "data": {
      "text/plain": [
       "array([[ 2,  3,  4],\n",
       "       [ 5,  6,  7],\n",
       "       [ 8,  9, 10],\n",
       "       [ 4,  5,  6],\n",
       "       [ 7,  8,  9],\n",
       "       [10, 11, 12]])"
      ]
     },
     "execution_count": 19,
     "metadata": {},
     "output_type": "execute_result"
    }
   ],
   "source": [
    "z"
   ]
  },
  {
   "cell_type": "markdown",
   "id": "bca97f6f",
   "metadata": {},
   "source": [
    "# Depth Stack:"
   ]
  },
  {
   "cell_type": "code",
   "execution_count": 20,
   "id": "8f54bb36",
   "metadata": {},
   "outputs": [],
   "source": [
    "a = np.dstack((s,t))"
   ]
  },
  {
   "cell_type": "code",
   "execution_count": 21,
   "id": "481c2828",
   "metadata": {},
   "outputs": [
    {
     "data": {
      "text/plain": [
       "array([[[ 2,  4],\n",
       "        [ 3,  5],\n",
       "        [ 4,  6]],\n",
       "\n",
       "       [[ 5,  7],\n",
       "        [ 6,  8],\n",
       "        [ 7,  9]],\n",
       "\n",
       "       [[ 8, 10],\n",
       "        [ 9, 11],\n",
       "        [10, 12]]])"
      ]
     },
     "execution_count": 21,
     "metadata": {},
     "output_type": "execute_result"
    }
   ],
   "source": [
    "a"
   ]
  },
  {
   "cell_type": "code",
   "execution_count": 22,
   "id": "799e53ee",
   "metadata": {},
   "outputs": [
    {
     "data": {
      "text/plain": [
       "(array([[ 2,  3,  4],\n",
       "        [ 5,  6,  7],\n",
       "        [ 8,  9, 10]]),\n",
       " array([[ 4,  5,  6],\n",
       "        [ 7,  8,  9],\n",
       "        [10, 11, 12]]))"
      ]
     },
     "execution_count": 22,
     "metadata": {},
     "output_type": "execute_result"
    }
   ],
   "source": [
    "s,t"
   ]
  },
  {
   "cell_type": "code",
   "execution_count": null,
   "id": "25318ca6",
   "metadata": {},
   "outputs": [],
   "source": []
  }
 ],
 "metadata": {
  "kernelspec": {
   "display_name": "Python 3 (ipykernel)",
   "language": "python",
   "name": "python3"
  },
  "language_info": {
   "codemirror_mode": {
    "name": "ipython",
    "version": 3
   },
   "file_extension": ".py",
   "mimetype": "text/x-python",
   "name": "python",
   "nbconvert_exporter": "python",
   "pygments_lexer": "ipython3",
   "version": "3.11.4"
  }
 },
 "nbformat": 4,
 "nbformat_minor": 5
}
