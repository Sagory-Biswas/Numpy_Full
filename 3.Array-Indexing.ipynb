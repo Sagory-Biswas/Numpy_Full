{
 "cells": [
  {
   "cell_type": "markdown",
   "id": "92a271c2",
   "metadata": {},
   "source": [
    "# Array Indexing:"
   ]
  },
  {
   "cell_type": "code",
   "execution_count": 1,
   "id": "71f3c646",
   "metadata": {},
   "outputs": [],
   "source": [
    "import numpy as np"
   ]
  },
  {
   "cell_type": "code",
   "execution_count": 2,
   "id": "4d47cc70",
   "metadata": {},
   "outputs": [],
   "source": [
    "n= np.array([2,5,6,8,9])"
   ]
  },
  {
   "cell_type": "code",
   "execution_count": 3,
   "id": "24cdaba0",
   "metadata": {},
   "outputs": [
    {
     "data": {
      "text/plain": [
       "array([2, 5, 6, 8, 9])"
      ]
     },
     "execution_count": 3,
     "metadata": {},
     "output_type": "execute_result"
    }
   ],
   "source": [
    "n"
   ]
  },
  {
   "cell_type": "code",
   "execution_count": 4,
   "id": "af91cc95",
   "metadata": {},
   "outputs": [
    {
     "data": {
      "text/plain": [
       "2"
      ]
     },
     "execution_count": 4,
     "metadata": {},
     "output_type": "execute_result"
    }
   ],
   "source": [
    "n[0]"
   ]
  },
  {
   "cell_type": "code",
   "execution_count": 5,
   "id": "e17cd543",
   "metadata": {},
   "outputs": [
    {
     "data": {
      "text/plain": [
       "6"
      ]
     },
     "execution_count": 5,
     "metadata": {},
     "output_type": "execute_result"
    }
   ],
   "source": [
    "n[2]"
   ]
  },
  {
   "cell_type": "code",
   "execution_count": 6,
   "id": "38e10304",
   "metadata": {},
   "outputs": [
    {
     "data": {
      "text/plain": [
       "8"
      ]
     },
     "execution_count": 6,
     "metadata": {},
     "output_type": "execute_result"
    }
   ],
   "source": [
    "n[-2]"
   ]
  },
  {
   "cell_type": "code",
   "execution_count": 7,
   "id": "0fee2262",
   "metadata": {},
   "outputs": [],
   "source": [
    "o = np.random.randint(5,15, size= (4,5))"
   ]
  },
  {
   "cell_type": "code",
   "execution_count": 8,
   "id": "da6c3601",
   "metadata": {},
   "outputs": [
    {
     "data": {
      "text/plain": [
       "array([[11,  5, 10, 10,  6],\n",
       "       [10, 10,  6, 11, 10],\n",
       "       [ 9, 14,  7, 10, 12],\n",
       "       [11,  6, 14,  7,  6]])"
      ]
     },
     "execution_count": 8,
     "metadata": {},
     "output_type": "execute_result"
    }
   ],
   "source": [
    "o"
   ]
  },
  {
   "cell_type": "code",
   "execution_count": 9,
   "id": "69d00597",
   "metadata": {},
   "outputs": [
    {
     "data": {
      "text/plain": [
       "10"
      ]
     },
     "execution_count": 9,
     "metadata": {},
     "output_type": "execute_result"
    }
   ],
   "source": [
    "o[0][2]"
   ]
  },
  {
   "cell_type": "code",
   "execution_count": 10,
   "id": "6a258d89",
   "metadata": {},
   "outputs": [
    {
     "data": {
      "text/plain": [
       "10"
      ]
     },
     "execution_count": 10,
     "metadata": {},
     "output_type": "execute_result"
    }
   ],
   "source": [
    "o[1][4]"
   ]
  },
  {
   "cell_type": "code",
   "execution_count": 11,
   "id": "b34cb920",
   "metadata": {},
   "outputs": [
    {
     "data": {
      "text/plain": [
       "6"
      ]
     },
     "execution_count": 11,
     "metadata": {},
     "output_type": "execute_result"
    }
   ],
   "source": [
    "o[1,2]"
   ]
  },
  {
   "cell_type": "code",
   "execution_count": 12,
   "id": "70caa441",
   "metadata": {},
   "outputs": [
    {
     "data": {
      "text/plain": [
       "14"
      ]
     },
     "execution_count": 12,
     "metadata": {},
     "output_type": "execute_result"
    }
   ],
   "source": [
    "o[3,2]"
   ]
  },
  {
   "cell_type": "code",
   "execution_count": 13,
   "id": "bbda3d6a",
   "metadata": {},
   "outputs": [],
   "source": [
    "p = np.random.randint(0,9, size=(3,3,4))"
   ]
  },
  {
   "cell_type": "code",
   "execution_count": 14,
   "id": "74a054ab",
   "metadata": {},
   "outputs": [
    {
     "data": {
      "text/plain": [
       "array([[[2, 7, 3, 1],\n",
       "        [8, 0, 6, 1],\n",
       "        [0, 7, 5, 8]],\n",
       "\n",
       "       [[5, 0, 2, 5],\n",
       "        [5, 5, 4, 3],\n",
       "        [4, 4, 2, 4]],\n",
       "\n",
       "       [[4, 3, 5, 3],\n",
       "        [5, 3, 6, 6],\n",
       "        [3, 2, 3, 5]]])"
      ]
     },
     "execution_count": 14,
     "metadata": {},
     "output_type": "execute_result"
    }
   ],
   "source": [
    "p"
   ]
  },
  {
   "cell_type": "code",
   "execution_count": 15,
   "id": "b0b4762a",
   "metadata": {},
   "outputs": [
    {
     "data": {
      "text/plain": [
       "1"
      ]
     },
     "execution_count": 15,
     "metadata": {},
     "output_type": "execute_result"
    }
   ],
   "source": [
    "p[0,1,3]"
   ]
  },
  {
   "cell_type": "code",
   "execution_count": 16,
   "id": "8c0b93c5",
   "metadata": {},
   "outputs": [
    {
     "data": {
      "text/plain": [
       "4"
      ]
     },
     "execution_count": 16,
     "metadata": {},
     "output_type": "execute_result"
    }
   ],
   "source": [
    "p[1,2,0]"
   ]
  },
  {
   "cell_type": "code",
   "execution_count": 17,
   "id": "9f1e56fd",
   "metadata": {},
   "outputs": [
    {
     "data": {
      "text/plain": [
       "6"
      ]
     },
     "execution_count": 17,
     "metadata": {},
     "output_type": "execute_result"
    }
   ],
   "source": [
    "p[2,1,2]"
   ]
  },
  {
   "cell_type": "code",
   "execution_count": null,
   "id": "aa2f3e85",
   "metadata": {},
   "outputs": [],
   "source": []
  }
 ],
 "metadata": {
  "kernelspec": {
   "display_name": "Python 3 (ipykernel)",
   "language": "python",
   "name": "python3"
  },
  "language_info": {
   "codemirror_mode": {
    "name": "ipython",
    "version": 3
   },
   "file_extension": ".py",
   "mimetype": "text/x-python",
   "name": "python",
   "nbconvert_exporter": "python",
   "pygments_lexer": "ipython3",
   "version": "3.11.4"
  }
 },
 "nbformat": 4,
 "nbformat_minor": 5
}
