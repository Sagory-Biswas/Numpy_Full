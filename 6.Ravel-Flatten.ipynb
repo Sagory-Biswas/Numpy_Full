{
 "cells": [
  {
   "cell_type": "markdown",
   "id": "44c89ee5",
   "metadata": {},
   "source": [
    "# Ravel:\n"
   ]
  },
  {
   "cell_type": "code",
   "execution_count": 1,
   "id": "d62da22b",
   "metadata": {},
   "outputs": [],
   "source": [
    "import numpy as np"
   ]
  },
  {
   "cell_type": "code",
   "execution_count": 2,
   "id": "0a6577e8",
   "metadata": {},
   "outputs": [],
   "source": [
    "r = np.random.randint(2,8, (3,4))"
   ]
  },
  {
   "cell_type": "code",
   "execution_count": 3,
   "id": "35dfc071",
   "metadata": {},
   "outputs": [
    {
     "data": {
      "text/plain": [
       "array([[5, 2, 7, 2],\n",
       "       [6, 2, 5, 5],\n",
       "       [4, 5, 3, 3]])"
      ]
     },
     "execution_count": 3,
     "metadata": {},
     "output_type": "execute_result"
    }
   ],
   "source": [
    "r"
   ]
  },
  {
   "cell_type": "code",
   "execution_count": 4,
   "id": "6980cfea",
   "metadata": {},
   "outputs": [],
   "source": [
    "hello = r.ravel()"
   ]
  },
  {
   "cell_type": "code",
   "execution_count": 5,
   "id": "d91044e7",
   "metadata": {},
   "outputs": [
    {
     "data": {
      "text/plain": [
       "array([5, 2, 7, 2, 6, 2, 5, 5, 4, 5, 3, 3])"
      ]
     },
     "execution_count": 5,
     "metadata": {},
     "output_type": "execute_result"
    }
   ],
   "source": [
    "hello"
   ]
  },
  {
   "cell_type": "code",
   "execution_count": 6,
   "id": "d8bc6e4b",
   "metadata": {},
   "outputs": [],
   "source": [
    "hello[4]=10"
   ]
  },
  {
   "cell_type": "code",
   "execution_count": 7,
   "id": "71485445",
   "metadata": {},
   "outputs": [
    {
     "data": {
      "text/plain": [
       "array([ 5,  2,  7,  2, 10,  2,  5,  5,  4,  5,  3,  3])"
      ]
     },
     "execution_count": 7,
     "metadata": {},
     "output_type": "execute_result"
    }
   ],
   "source": [
    "hello"
   ]
  },
  {
   "cell_type": "code",
   "execution_count": 9,
   "id": "0a4fef45",
   "metadata": {},
   "outputs": [
    {
     "data": {
      "text/plain": [
       "array([[ 5,  2,  7,  2],\n",
       "       [10,  2,  5,  5],\n",
       "       [ 4,  5,  3,  3]])"
      ]
     },
     "execution_count": 9,
     "metadata": {},
     "output_type": "execute_result"
    }
   ],
   "source": [
    "r                               #return a view of the array"
   ]
  },
  {
   "cell_type": "markdown",
   "id": "cc167d0b",
   "metadata": {},
   "source": [
    "# Flatten:\n"
   ]
  },
  {
   "cell_type": "code",
   "execution_count": 10,
   "id": "0dbd01f7",
   "metadata": {},
   "outputs": [
    {
     "data": {
      "text/plain": [
       "array([[ 5,  2,  7,  2],\n",
       "       [10,  2,  5,  5],\n",
       "       [ 4,  5,  3,  3]])"
      ]
     },
     "execution_count": 10,
     "metadata": {},
     "output_type": "execute_result"
    }
   ],
   "source": [
    "r"
   ]
  },
  {
   "cell_type": "code",
   "execution_count": 11,
   "id": "33ff0b77",
   "metadata": {},
   "outputs": [],
   "source": [
    "hi = r.flatten()"
   ]
  },
  {
   "cell_type": "code",
   "execution_count": 12,
   "id": "3f3dc734",
   "metadata": {},
   "outputs": [
    {
     "data": {
      "text/plain": [
       "array([ 5,  2,  7,  2, 10,  2,  5,  5,  4,  5,  3,  3])"
      ]
     },
     "execution_count": 12,
     "metadata": {},
     "output_type": "execute_result"
    }
   ],
   "source": [
    "hi"
   ]
  },
  {
   "cell_type": "code",
   "execution_count": 13,
   "id": "48782ac4",
   "metadata": {},
   "outputs": [],
   "source": [
    "hi[1] = 6"
   ]
  },
  {
   "cell_type": "code",
   "execution_count": 14,
   "id": "dda701ab",
   "metadata": {},
   "outputs": [
    {
     "data": {
      "text/plain": [
       "array([ 5,  6,  7,  2, 10,  2,  5,  5,  4,  5,  3,  3])"
      ]
     },
     "execution_count": 14,
     "metadata": {},
     "output_type": "execute_result"
    }
   ],
   "source": [
    "hi"
   ]
  },
  {
   "cell_type": "code",
   "execution_count": 16,
   "id": "6b5bf39f",
   "metadata": {},
   "outputs": [
    {
     "data": {
      "text/plain": [
       "array([[ 5,  2,  7,  2],\n",
       "       [10,  2,  5,  5],\n",
       "       [ 4,  5,  3,  3]])"
      ]
     },
     "execution_count": 16,
     "metadata": {},
     "output_type": "execute_result"
    }
   ],
   "source": [
    "r                                     #return a copy of the array, alaway alocates the memory."
   ]
  },
  {
   "cell_type": "markdown",
   "id": "2c7875c6",
   "metadata": {},
   "source": [
    "##Shape:"
   ]
  },
  {
   "cell_type": "code",
   "execution_count": 17,
   "id": "0b3cef46",
   "metadata": {},
   "outputs": [],
   "source": [
    "r.shape = (4,3)"
   ]
  },
  {
   "cell_type": "code",
   "execution_count": 18,
   "id": "d7106007",
   "metadata": {},
   "outputs": [
    {
     "data": {
      "text/plain": [
       "array([[ 5,  2,  7],\n",
       "       [ 2, 10,  2],\n",
       "       [ 5,  5,  4],\n",
       "       [ 5,  3,  3]])"
      ]
     },
     "execution_count": 18,
     "metadata": {},
     "output_type": "execute_result"
    }
   ],
   "source": [
    "r"
   ]
  },
  {
   "cell_type": "code",
   "execution_count": null,
   "id": "0e41e49e",
   "metadata": {},
   "outputs": [],
   "source": []
  }
 ],
 "metadata": {
  "kernelspec": {
   "display_name": "Python 3 (ipykernel)",
   "language": "python",
   "name": "python3"
  },
  "language_info": {
   "codemirror_mode": {
    "name": "ipython",
    "version": 3
   },
   "file_extension": ".py",
   "mimetype": "text/x-python",
   "name": "python",
   "nbconvert_exporter": "python",
   "pygments_lexer": "ipython3",
   "version": "3.11.4"
  }
 },
 "nbformat": 4,
 "nbformat_minor": 5
}
